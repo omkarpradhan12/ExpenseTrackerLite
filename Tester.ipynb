{
 "cells": [
  {
   "cell_type": "code",
   "execution_count": 1,
   "metadata": {},
   "outputs": [
    {
     "data": {
      "text/plain": [
       "[WindowsPath('../CSV/January-2024.csv'),\n",
       " WindowsPath('../CSV/February-2024.csv'),\n",
       " WindowsPath('../CSV/March-2024.csv'),\n",
       " WindowsPath('../CSV/April-2024.csv')]"
      ]
     },
     "execution_count": 1,
     "metadata": {},
     "output_type": "execute_result"
    }
   ],
   "source": [
    "import os\n",
    "from pathlib import Path\n",
    "\n",
    "paths = sorted(Path('../CSV').iterdir(), key=os.path.getmtime)\n",
    "paths"
   ]
  },
  {
   "cell_type": "code",
   "execution_count": 2,
   "metadata": {},
   "outputs": [
    {
     "name": "stdout",
     "output_type": "stream",
     "text": [
      "<class 'pandas.core.frame.DataFrame'>\n",
      "RangeIndex: 62 entries, 0 to 61\n",
      "Data columns (total 4 columns):\n",
      " #   Column    Non-Null Count  Dtype  \n",
      "---  ------    --------------  -----  \n",
      " 0   Date      62 non-null     object \n",
      " 1   Reason    62 non-null     object \n",
      " 2   Category  62 non-null     object \n",
      " 3   Amount    62 non-null     float64\n",
      "dtypes: float64(1), object(3)\n",
      "memory usage: 2.1+ KB\n"
     ]
    }
   ],
   "source": [
    "import pandas as pd\n",
    "\n",
    "df = pd.read_csv(paths[0])\n",
    "\n"
   ]
  },
  {
   "cell_type": "markdown",
   "metadata": {},
   "source": [
    "# testing model"
   ]
  },
  {
   "cell_type": "code",
   "execution_count": 1,
   "metadata": {},
   "outputs": [],
   "source": [
    "import pandas as pd\n",
    "data = pd.read_csv('C:/Users/omkar/OneDrive/Documents/Finances/2024/CSV/January-2024.csv')"
   ]
  },
  {
   "cell_type": "code",
   "execution_count": 2,
   "metadata": {},
   "outputs": [],
   "source": [
    "# from huggingface_hub import snapshot_download\n",
    "# snapshot_download(repo_id=\"google/flan-t5-small\",cache_dir=\"./.cache\")"
   ]
  },
  {
   "cell_type": "code",
   "execution_count": 3,
   "metadata": {},
   "outputs": [
    {
     "name": "stderr",
     "output_type": "stream",
     "text": [
      "d:\\Scripts\\ExpenseTrackerLite\\Python\\.venv\\lib\\site-packages\\tqdm\\auto.py:21: TqdmWarning: IProgress not found. Please update jupyter and ipywidgets. See https://ipywidgets.readthedocs.io/en/stable/user_install.html\n",
      "  from .autonotebook import tqdm as notebook_tqdm\n",
      "You are using the default legacy behaviour of the <class 'transformers.models.t5.tokenization_t5.T5Tokenizer'>. This is expected, and simply means that the `legacy` (previous) behavior will be used so nothing changes for you. If you want to use the new behaviour, set `legacy=False`. This should only be set if you understand what it means, and thoroughly read the reason why this was added as explained in https://github.com/huggingface/transformers/pull/24565\n"
     ]
    }
   ],
   "source": [
    "from transformers import T5Tokenizer, T5ForConditionalGeneration\n",
    "\n",
    "tokenizer = T5Tokenizer.from_pretrained(\"google/flan-t5-small\",cache_dir=\"./.cache\")\n",
    "model = T5ForConditionalGeneration.from_pretrained(\"google/flan-t5-small\", device_map=\"auto\",cache_dir=\"./.cache\")\n",
    "\n"
   ]
  },
  {
   "cell_type": "code",
   "execution_count": 16,
   "metadata": {},
   "outputs": [],
   "source": [
    "input_text = f\"\"\"From given data : {data}\n",
    "Find the follwing:\n",
    "1) largest expense\n",
    "2) smallest expense\n",
    "3) total expense\n",
    "4) Possible expenses that can be reduced\n",
    "\n",
    "Always output in proper english format\n",
    "\"\"\"\n",
    "input_ids = tokenizer(input_text, return_tensors=\"pt\").input_ids"
   ]
  },
  {
   "cell_type": "code",
   "execution_count": 17,
   "metadata": {},
   "outputs": [],
   "source": [
    "outputs = model.generate(input_ids)"
   ]
  },
  {
   "cell_type": "code",
   "execution_count": 18,
   "metadata": {},
   "outputs": [
    {
     "name": "stdout",
     "output_type": "stream",
     "text": [
      "<pad>[62 rows x 4 columns] Find the follwing: 1) largest expense 2) smallest\n"
     ]
    }
   ],
   "source": [
    "print(tokenizer.decode(outputs[0]))"
   ]
  },
  {
   "cell_type": "markdown",
   "metadata": {},
   "source": [
    "# using fb model"
   ]
  },
  {
   "cell_type": "code",
   "execution_count": 2,
   "metadata": {},
   "outputs": [
    {
     "name": "stderr",
     "output_type": "stream",
     "text": [
      "d:\\Scripts\\ExpenseTrackerLite\\Python\\.venv\\lib\\site-packages\\tqdm\\auto.py:21: TqdmWarning: IProgress not found. Please update jupyter and ipywidgets. See https://ipywidgets.readthedocs.io/en/stable/user_install.html\n",
      "  from .autonotebook import tqdm as notebook_tqdm\n"
     ]
    }
   ],
   "source": [
    "from transformers import pipeline"
   ]
  },
  {
   "cell_type": "code",
   "execution_count": 3,
   "metadata": {},
   "outputs": [],
   "source": [
    "# from huggingface_hub import snapshot_download\n",
    "# snapshot_download(repo_id=\"Falconsai/text_summarization\",cache_dir=\"./.cache\")"
   ]
  },
  {
   "cell_type": "code",
   "execution_count": 4,
   "metadata": {},
   "outputs": [
    {
     "name": "stderr",
     "output_type": "stream",
     "text": [
      "Device set to use cpu\n"
     ]
    }
   ],
   "source": [
    "summarizer = pipeline(\"summarization\", model=\"facebook/bart-large-cnn\")"
   ]
  },
  {
   "cell_type": "code",
   "execution_count": 5,
   "metadata": {},
   "outputs": [],
   "source": [
    "import pandas as pd\n",
    "data = pd.read_csv('C:/Users/omkar/OneDrive/Documents/Finances/2024/CSV/January-2024.csv')"
   ]
  },
  {
   "cell_type": "code",
   "execution_count": 9,
   "metadata": {},
   "outputs": [],
   "source": [
    "ARTICLE = f\"\"\"\n",
    "{data}\n",
    "\"\"\""
   ]
  },
  {
   "cell_type": "code",
   "execution_count": 11,
   "metadata": {},
   "outputs": [],
   "source": [
    "op = summarizer(ARTICLE, min_length=100, do_sample=False)"
   ]
  },
  {
   "cell_type": "code",
   "execution_count": 12,
   "metadata": {},
   "outputs": [
    {
     "data": {
      "text/plain": [
       "[{'summary_text': 'Rent for a flat in 2024-01-01 is 7000. Pizza costs 456.0 euros per pizza. Ice-cream costs 365 euros per ice-cream. Medicine costs 570 euros per medicine. Travel costs 1328.0 Euros per travel. The cost of living in 2024 will be 7.7 billion dollars. The price of living will be 6.2 billion dollars in 2024. The amount of rent will be 7000 dollars per flat. It will be 1328 billion dollars for the whole of 2024.'}]"
      ]
     },
     "execution_count": 12,
     "metadata": {},
     "output_type": "execute_result"
    }
   ],
   "source": [
    "op"
   ]
  },
  {
   "cell_type": "markdown",
   "metadata": {},
   "source": [
    "# Testing for month wise"
   ]
  },
  {
   "cell_type": "code",
   "execution_count": 1,
   "metadata": {},
   "outputs": [],
   "source": [
    "from data_util import get_dfs"
   ]
  },
  {
   "cell_type": "code",
   "execution_count": 4,
   "metadata": {},
   "outputs": [],
   "source": [
    "names,dfs=get_dfs(\"C:/Users/omkar/OneDrive/Documents/Finances/2024/CSV/\")"
   ]
  },
  {
   "cell_type": "code",
   "execution_count": 7,
   "metadata": {},
   "outputs": [
    {
     "data": {
      "text/plain": [
       "{'January-2024.csv':           Date      Reason Category  Amount\n",
       " 0   2024-01-01        Rent     Flat  7000.0\n",
       " 1   2024-01-01       Pizza     Food   456.0\n",
       " 2   2024-01-02    Service    Travel  1328.0\n",
       " 3   2024-01-02   Medicine     Other   570.0\n",
       " 4   2024-01-02      Dinner     Food   170.0\n",
       " ..         ...         ...      ...     ...\n",
       " 57  2024-01-28  Ice-cream      Food   140.0\n",
       " 58  2024-01-30      Lunch      Food   155.0\n",
       " 59  2024-01-30       Lassi    Drink    50.0\n",
       " 60  2024-01-31  ice-cream      Food   365.0\n",
       " 61  2024-01-31       Lunch     Food   107.5\n",
       " \n",
       " [62 rows x 4 columns],\n",
       " 'February-2024.csv':           Date             Reason Category   Amount\n",
       " 0   2024-02-01               Rent     Flat   7000.0\n",
       " 1   2024-02-01  Electricity bill      Flat    732.0\n",
       " 2   2024-02-01              Lunch     Food    195.0\n",
       " 3   2024-02-01              Lassi    Drink     50.0\n",
       " 4   2024-02-02   Washing machine     Other  10249.0\n",
       " ..         ...                ...      ...      ...\n",
       " 63  2024-02-28              Lunch     Food    120.0\n",
       " 64  2024-02-28  strawberry Shake     Drink     70.0\n",
       " 65  2024-02-29             Dinner     Food    427.0\n",
       " 66  2024-02-29             Lunch      Food    130.0\n",
       " 67  2024-02-29            Slushie    Drink     99.0\n",
       " \n",
       " [68 rows x 4 columns],\n",
       " 'March-2024.csv':           Date            Reason Category  Amount\n",
       " 0   2024-03-01              Rent     Flat  7000.0\n",
       " 1   2024-03-01  Electricity Bill     Flat   720.0\n",
       " 2   2024-03-01           Dinner      Food   665.0\n",
       " 3   2024-03-01        Lunch Roll     Food   135.0\n",
       " 4   2024-03-02    Groceries  - 1  Grocery  2234.0\n",
       " ..         ...               ...      ...     ...\n",
       " 67  2024-03-27        Ice-cream      Food   295.0\n",
       " 68  2024-03-28             Lunch     Food   336.0\n",
       " 69  2024-03-28            dinner     Food   275.0\n",
       " 70  2024-03-29    Aaba Aaji Food    Other  1023.0\n",
       " 71  2024-03-31        Groceries   Grocery  1219.0\n",
       " \n",
       " [72 rows x 4 columns],\n",
       " 'April-2024.csv':           Date            Reason Category  Amount\n",
       " 0   2024-04-01              Rent     Flat  7000.0\n",
       " 1   2024-04-01  Electricity Bill     Flat  1140.0\n",
       " 2   2024-04-01             Lunch     Food   105.0\n",
       " 3   2024-04-01            Dinner     Food    95.0\n",
       " 4   2024-04-01             Juice    Drink    40.0\n",
       " ..         ...               ...      ...     ...\n",
       " 70  2024-04-30            Dinner     Food   175.0\n",
       " 71  2024-04-30             Lunch     Food    84.0\n",
       " 72  2024-04-30             water    Drink    10.0\n",
       " 73  2024-04-30            sorbet     Food   100.0\n",
       " 74  2024-04-30     coke+icecream     Food   190.0\n",
       " \n",
       " [75 rows x 4 columns],\n",
       " 'May-2024.csv':           Date            Reason Category  Amount\n",
       " 0   2024-05-01              Rent     Flat  7000.0\n",
       " 1   2024-05-01  Electricity Bill     Flat  1332.0\n",
       " 2   2024-05-01        Groceries   Grocery   816.0\n",
       " 3   2024-05-02            Dinner     Food   145.0\n",
       " 4   2024-05-02  Double Egg Roll      Food    84.0\n",
       " ..         ...               ...      ...     ...\n",
       " 75  2024-05-30     Chicken Toast     Food    69.0\n",
       " 76  2024-05-31        Train home   Travel   719.0\n",
       " 77  2024-05-31            Dinner     Food   514.0\n",
       " 78  2024-05-31             Lunch     Food    57.5\n",
       " 79  2024-05-31             Lassi    Drink    30.0\n",
       " \n",
       " [80 rows x 4 columns],\n",
       " 'June-2024.csv':           Date             Reason Category  Amount\n",
       " 0   2024-06-01               Rent     Flat  7000.0\n",
       " 1   2024-06-01  Electricity bill      Flat  1296.0\n",
       " 2   2024-06-01              froyo    Other   358.0\n",
       " 3   2024-06-01               Wrap     Food   220.0\n",
       " 4   2024-06-01              Shake    Drink   198.0\n",
       " ..         ...                ...      ...     ...\n",
       " 61  2024-06-28              Shake    Drink   230.0\n",
       " 62  2024-06-28               Pohe     Food    40.0\n",
       " 63  2024-06-28            Orange     Drink    30.0\n",
       " 64  2024-06-30            Journal    Other   393.0\n",
       " 65  2024-06-30              Lunch     Food   383.0\n",
       " \n",
       " [66 rows x 4 columns],\n",
       " 'July-2024.csv':           Date             Reason    Category  Amount\n",
       " 0   2024-07-01               Rent        Flat    7000\n",
       " 1   2024-07-01  Electricity Bill         Flat     996\n",
       " 2   2024-07-01        Groceries 1     Grocery     690\n",
       " 3   2024-07-01              Lunch        Food     455\n",
       " 4   2024-07-02        Investment   Investment    1500\n",
       " ..         ...                ...         ...     ...\n",
       " 69  2024-07-30             Shake        Drink      79\n",
       " 70  2024-07-31             Dinner        Food     230\n",
       " 71  2024-07-31     shake and mint     Grocery      70\n",
       " 72  2024-07-31          Sandwich         Food      69\n",
       " 73  2024-07-31             Khaman        Food      42\n",
       " \n",
       " [74 rows x 4 columns],\n",
       " 'August-2024.csv':           Date             Reason Category  Amount\n",
       " 0   2024-08-01               rent     Flat    7000\n",
       " 1   2024-08-01  electricity Bill      Flat     732\n",
       " 2   2024-08-01            Dinner      Food     406\n",
       " 3   2024-08-01              lunch     Food      69\n",
       " 4   2024-08-01         Breakfast      Food      52\n",
       " ..         ...                ...      ...     ...\n",
       " 95  2024-08-31             Brunch     Food     325\n",
       " 96  2024-08-31            Petrol    Travel     310\n",
       " 97  2024-08-31             Coffee    Drink     187\n",
       " 98  2024-08-31        Sarvad Gift    Other     200\n",
       " 99  2024-08-31             Dinner     Food     308\n",
       " \n",
       " [100 rows x 4 columns],\n",
       " 'September-2024.csv':           Date             Reason Category  Amount\n",
       " 0   2024-09-01               Rent     Flat    7000\n",
       " 1   2024-09-01  Electricity Bill      Flat    1452\n",
       " 2   2024-09-01           Disc Pad   Travel     600\n",
       " 3   2024-09-01             Dinner     Food     437\n",
       " 4   2024-09-01              Maaza    Drink      45\n",
       " ..         ...                ...      ...     ...\n",
       " 72  2024-09-27    Idli breakfast      Food      70\n",
       " 73  2024-09-27        Iced coffee    Drink      70\n",
       " 74  2024-09-29         Groceries   Grocery     729\n",
       " 75  2024-09-30          Sandwich      Food      79\n",
       " 76  2024-09-30    Chicken Dinner      Food     336\n",
       " \n",
       " [77 rows x 4 columns],\n",
       " 'October-2024.csv':           Date             Reason Category  Amount\n",
       " 0   2024-10-01               Rent     Flat    7000\n",
       " 1   2024-10-01  electricity Bill      Flat     660\n",
       " 2   2024-10-01   Hotstar 3 months    Other     300\n",
       " 3   2024-10-01               Dosa     Food     110\n",
       " 4   2024-10-01             sprite    Drink      40\n",
       " ..         ...                ...      ...     ...\n",
       " 73  2024-10-30              Chaat     Food      50\n",
       " 74  2024-10-30         Paper boat    Drink      20\n",
       " 75  2024-10-31              Lunch     Food     140\n",
       " 76  2024-10-31      Orange juice     Drink      40\n",
       " 77  2024-10-31        Wrap Dinner     Food     289\n",
       " \n",
       " [78 rows x 4 columns],\n",
       " 'November-2024.csv':           Date             Reason Category  Amount\n",
       " 0   2024-11-01               Rent     Flat    7000\n",
       " 1   2024-11-01  Electricity Bill      Flat     900\n",
       " 2   2024-11-01   auto to station    Travel     272\n",
       " 3   2024-11-01            Shampoo  Grocery     101\n",
       " 4   2024-11-01             Ticket   Travel      25\n",
       " ..         ...                ...      ...     ...\n",
       " 76  2024-11-29           Shwarma      Food     481\n",
       " 77  2024-11-29              Lunch     Food     418\n",
       " 78  2024-11-29             Watch      Food     314\n",
       " 79  2024-11-30     Grocery fiinal  Grocery     776\n",
       " 80  2024-11-30          Breakfast     Food     222\n",
       " \n",
       " [81 rows x 4 columns],\n",
       " 'December-2024.csv':           Date             Reason    Category  Amount\n",
       " 0   2024-12-01               Rent        Flat    7000\n",
       " 1   2024-12-01  Electricity Bill         Flat     696\n",
       " 2   2024-12-02                SIP  Investment    1500\n",
       " 3   2024-12-02   Gold Investment   Investment    1000\n",
       " 4   2024-12-02      Patu Earphone       Other     300\n",
       " ..         ...                ...         ...     ...\n",
       " 64  2024-12-30  Bike Maintenance        Other     250\n",
       " 65  2024-12-30         Idli Lunch        Food      70\n",
       " 66  2024-12-31                Rum       Other    2700\n",
       " 67  2024-12-31    Shawarma Dinner        Food     587\n",
       " 68  2024-12-31          Shawarma         Food     130\n",
       " \n",
       " [69 rows x 4 columns]}"
      ]
     },
     "execution_count": 7,
     "metadata": {},
     "output_type": "execute_result"
    }
   ],
   "source": [
    "dfs"
   ]
  },
  {
   "cell_type": "code",
   "execution_count": null,
   "metadata": {},
   "outputs": [],
   "source": []
  }
 ],
 "metadata": {
  "kernelspec": {
   "display_name": ".venv",
   "language": "python",
   "name": "python3"
  },
  "language_info": {
   "codemirror_mode": {
    "name": "ipython",
    "version": 3
   },
   "file_extension": ".py",
   "mimetype": "text/x-python",
   "name": "python",
   "nbconvert_exporter": "python",
   "pygments_lexer": "ipython3",
   "version": "3.9.20"
  }
 },
 "nbformat": 4,
 "nbformat_minor": 2
}
